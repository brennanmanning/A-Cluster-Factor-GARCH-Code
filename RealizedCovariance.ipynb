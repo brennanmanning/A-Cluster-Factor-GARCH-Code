{
 "cells": [
  {
   "cell_type": "markdown",
   "metadata": {},
   "source": [
    "# Realized Covariance\n",
    "\n",
    "Reads in a csv file containing intraday price data for 9 stocks and outputs a dataframe consisting of the vectorization of the realized covariance for each date provided"
   ]
  },
  {
   "cell_type": "code",
   "execution_count": 1,
   "metadata": {},
   "outputs": [],
   "source": [
    "import pandas as pd\n",
    "import numpy as np"
   ]
  },
  {
   "cell_type": "code",
   "execution_count": 2,
   "metadata": {},
   "outputs": [],
   "source": [
    "df = pd.read_csv('D:/Thesis/IntradayReturns.csv')\n",
    "df.Datetime = pd.to_datetime(df.Datetime)\n",
    "df = df[df.Datetime <= pd.to_datetime('2021-03-01', format = '%Y-%m-%d')]"
   ]
  },
  {
   "cell_type": "code",
   "execution_count": 3,
   "metadata": {},
   "outputs": [],
   "source": [
    "dates = list(df.Datetime.dt.date.astype(str).unique())"
   ]
  },
  {
   "cell_type": "code",
   "execution_count": 4,
   "metadata": {},
   "outputs": [],
   "source": [
    "df.drop('Unnamed: 0', axis = 1, inplace = True)"
   ]
  },
  {
   "cell_type": "code",
   "execution_count": 5,
   "metadata": {},
   "outputs": [],
   "source": [
    "df = df.set_index([df.Datetime.dt.date.astype(str), df.Datetime.dt.time.astype(str)])\n",
    "df.drop('Datetime', axis = 1, inplace = True)\n",
    "df = df.set_index(df.index.rename(['Date', 'Time']))"
   ]
  },
  {
   "cell_type": "code",
   "execution_count": 6,
   "metadata": {},
   "outputs": [],
   "source": [
    "# Create dictionary of dataframes where date is key and values are prices for each stock at each time\n",
    "dfs = {} \n",
    "for date in dates:\n",
    "    dfs[date] = df.loc[date]"
   ]
  },
  {
   "cell_type": "code",
   "execution_count": 7,
   "metadata": {},
   "outputs": [],
   "source": [
    "# Transform prices to log returns * 100\n",
    "dfs = {date: 100* np.log(dfs[date]).diff().dropna() for date in dates}"
   ]
  },
  {
   "cell_type": "code",
   "execution_count": 8,
   "metadata": {},
   "outputs": [],
   "source": [
    "# Calculate realized covariation for each date\n",
    "cov_ests = {}\n",
    "for date in dates:\n",
    "    cov = np.zeros((9,9))\n",
    "    X = dfs[date].values\n",
    "    for t in range(77):\n",
    "        cov += np.outer(X[t,:], X[t,:])\n",
    "    cov_ests[date] = cov.ravel()"
   ]
  },
  {
   "cell_type": "code",
   "execution_count": 31,
   "metadata": {},
   "outputs": [],
   "source": [
    "pd.DataFrame(cov_ests).T.to_csv('logIntradayRV.csv')"
   ]
  }
 ],
 "metadata": {
  "kernelspec": {
   "display_name": "Python 3",
   "language": "python",
   "name": "python3"
  },
  "language_info": {
   "codemirror_mode": {
    "name": "ipython",
    "version": 3
   },
   "file_extension": ".py",
   "mimetype": "text/x-python",
   "name": "python",
   "nbconvert_exporter": "python",
   "pygments_lexer": "ipython3",
   "version": "3.8.5"
  }
 },
 "nbformat": 4,
 "nbformat_minor": 4
}
