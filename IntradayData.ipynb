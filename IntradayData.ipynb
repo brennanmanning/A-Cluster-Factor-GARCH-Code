{
 "cells": [
  {
   "cell_type": "markdown",
   "metadata": {},
   "source": [
    "# Intraday Data\n",
    "\n",
    "- Reads in intraday stock data for 5 minute samples from csv files where each dataset contains different lengths of data. \n",
    "- Removes days with insufficient price information\n",
    "- Outputs a dataframe containing intraday price data for 9 different stocks"
   ]
  },
  {
   "cell_type": "code",
   "execution_count": 1,
   "metadata": {},
   "outputs": [],
   "source": [
    "import pandas as pd\n",
    "import numpy as np\n",
    "import datetime"
   ]
  },
  {
   "cell_type": "code",
   "execution_count": 2,
   "metadata": {},
   "outputs": [],
   "source": [
    "tickers = ['AAPL', 'AMD', 'BAC', 'CSCO', 'GE', 'MSFT', 'MU', 'T', 'WFC']"
   ]
  },
  {
   "cell_type": "code",
   "execution_count": 3,
   "metadata": {},
   "outputs": [],
   "source": [
    "# Reads in intraday price data for a given stock and cleans it to start from 2000\n",
    "def get_intraday_data(name):\n",
    "    file_src  = 'D:/Thesis/' + name + '-5m.csv'\n",
    "    df = pd.read_csv(file_src, sep = ';', header = None, \n",
    "                     names = ['Date', 'Time', 'Open', 'High', 'Low', name, 'Volume'])\n",
    "    df['Datetime'] = df['Date'] + ' ' + df['Time']\n",
    "    df['Datetime'] = pd.to_datetime(df['Datetime'], format = '%d/%m/%Y %H:%M:%S')\n",
    "    df = df[df.Datetime.dt.year >= 2000]\n",
    "    return df"
   ]
  },
  {
   "cell_type": "code",
   "execution_count": 4,
   "metadata": {},
   "outputs": [],
   "source": [
    "AAPL = get_intraday_data(tickers[0])\n",
    "AMD = get_intraday_data(tickers[1])\n",
    "BAC = get_intraday_data(tickers[2])\n",
    "CSCO = get_intraday_data(tickers[3])\n",
    "GE = get_intraday_data(tickers[4])\n",
    "MSFT = get_intraday_data(tickers[5])\n",
    "MU = get_intraday_data(tickers[6])\n",
    "T = get_intraday_data(tickers[7])\n",
    "WFC = get_intraday_data(tickers[8])"
   ]
  },
  {
   "cell_type": "code",
   "execution_count": 5,
   "metadata": {},
   "outputs": [],
   "source": [
    "# See which days there is price data on for a given dataset\n",
    "def get_trading_days(df):\n",
    "    days = df.Date.value_counts().index\n",
    "    return set(days)"
   ]
  },
  {
   "cell_type": "code",
   "execution_count": 6,
   "metadata": {},
   "outputs": [],
   "source": [
    "# See which days do not have full price data for a given dataset\n",
    "def get_partial_trading_days(df):\n",
    "    days = df.Date.value_counts().index[(df.Date.value_counts() < 78) == True]\n",
    "    return set(days)"
   ]
  },
  {
   "cell_type": "code",
   "execution_count": 7,
   "metadata": {},
   "outputs": [],
   "source": [
    "data = [AAPL, AMD, BAC, CSCO, GE, MSFT, MU, T, WFC]\n",
    "partial_days = set()"
   ]
  },
  {
   "cell_type": "code",
   "execution_count": 8,
   "metadata": {},
   "outputs": [],
   "source": [
    "# Get set of all days where for some stock there is incomplete price data\n",
    "for df in data:\n",
    "    days = get_partial_trading_days(df)\n",
    "    partial_days = partial_days.union(days)"
   ]
  },
  {
   "cell_type": "code",
   "execution_count": 9,
   "metadata": {},
   "outputs": [],
   "source": [
    "# Get set of all common trading days regardless of amount price data\n",
    "trading_days = set(WFC.Date.unique())\n",
    "\n",
    "for df in data:\n",
    "    days = get_trading_days(df)\n",
    "    trading_days = trading_days.intersection(days)"
   ]
  },
  {
   "cell_type": "code",
   "execution_count": 10,
   "metadata": {},
   "outputs": [],
   "source": [
    "# Calculate set of days where full price data is available\n",
    "full_days = trading_days - partial_days"
   ]
  },
  {
   "cell_type": "code",
   "execution_count": 11,
   "metadata": {},
   "outputs": [],
   "source": [
    "# Filter datasets to only contain dates with full price information\n",
    "AAPL = AAPL[AAPL.Date.isin(list(full_days))]\n",
    "AMD  = AMD[AMD.Date.isin(list(full_days))]\n",
    "BAC  = BAC[BAC.Date.isin(list(full_days))]\n",
    "CSCO = CSCO[CSCO.Date.isin(list(full_days))]\n",
    "GE   = GE[GE.Date.isin(list(full_days))]\n",
    "MSFT = MSFT[MSFT.Date.isin(list(full_days))]\n",
    "MU   = MU[MU.Date.isin(list(full_days))]\n",
    "T    = T[T.Date.isin(list(full_days))]\n",
    "WFC  = WFC[WFC.Date.isin(list(full_days))]"
   ]
  },
  {
   "cell_type": "code",
   "execution_count": 12,
   "metadata": {},
   "outputs": [
    {
     "name": "stderr",
     "output_type": "stream",
     "text": [
      "C:\\Users\\manni\\anaconda3\\envs\\Trading\\lib\\site-packages\\pandas\\core\\frame.py:4308: SettingWithCopyWarning: \n",
      "A value is trying to be set on a copy of a slice from a DataFrame\n",
      "\n",
      "See the caveats in the documentation: https://pandas.pydata.org/pandas-docs/stable/user_guide/indexing.html#returning-a-view-versus-a-copy\n",
      "  return super().drop(\n"
     ]
    }
   ],
   "source": [
    "# Duplicates however remain and need to be removed\n",
    "CSCO_duplicates = CSCO[CSCO.duplicated()].index.tolist()\n",
    "GE_duplicates = GE[GE.duplicated()].index.tolist()\n",
    "MU_duplicates = MU[MU.duplicated()].index.tolist()\n",
    "\n",
    "CSCO.drop(CSCO_duplicates, inplace = True)\n",
    "GE.drop(GE_duplicates, inplace = True)\n",
    "MU.drop(MU_duplicates, inplace = True)"
   ]
  },
  {
   "cell_type": "code",
   "execution_count": 13,
   "metadata": {},
   "outputs": [],
   "source": [
    "# Some days however have 79 observations for a day where data is also given for 16:00 and needs to be removed \n",
    "# since not all stocks have this data \n",
    "def get_extra_data_idx(df):\n",
    "    idx = list()\n",
    "    extra_days = (df.Date.value_counts().index[(df.Date.value_counts() == 79) == True]).tolist()\n",
    "    \n",
    "    for day in extra_days:\n",
    "        idx.append(df[df.Date == day].index[-1])\n",
    "    \n",
    "    return idx"
   ]
  },
  {
   "cell_type": "code",
   "execution_count": 14,
   "metadata": {},
   "outputs": [],
   "source": [
    "# Calculate index for each 79th price observation\n",
    "AAPL_extra_idx = get_extra_data_idx(AAPL)\n",
    "AMD_extra_idx = get_extra_data_idx(AMD)\n",
    "BAC_extra_idx = get_extra_data_idx(BAC)\n",
    "CSCO_extra_idx = get_extra_data_idx(CSCO)\n",
    "GE_extra_idx = get_extra_data_idx(GE)\n",
    "MSFT_extra_idx = get_extra_data_idx(MSFT)\n",
    "MU_extra_idx = get_extra_data_idx(MU)\n",
    "T_extra_idx = get_extra_data_idx(T)\n",
    "WFC_extra_idx = get_extra_data_idx(WFC)"
   ]
  },
  {
   "cell_type": "code",
   "execution_count": 15,
   "metadata": {},
   "outputs": [],
   "source": [
    "# AAPL has one day where 91 observations are made with data from 8:30 to 9:25 is calculated and 16:00 is reported\n",
    "aapl_91_idx = AAPL[AAPL.Date == '07/07/2017'][:12].index.tolist()\n",
    "aapl_91_idx = aapl_91_idx + [AAPL[AAPL.Date == '07/07/2017'].index[-1]]\n",
    "\n",
    "for idx in aapl_91_idx:\n",
    "    AAPL_extra_idx.append(idx)"
   ]
  },
  {
   "cell_type": "code",
   "execution_count": 16,
   "metadata": {},
   "outputs": [
    {
     "name": "stderr",
     "output_type": "stream",
     "text": [
      "C:\\Users\\manni\\anaconda3\\envs\\Trading\\lib\\site-packages\\pandas\\core\\frame.py:4308: SettingWithCopyWarning: \n",
      "A value is trying to be set on a copy of a slice from a DataFrame\n",
      "\n",
      "See the caveats in the documentation: https://pandas.pydata.org/pandas-docs/stable/user_guide/indexing.html#returning-a-view-versus-a-copy\n",
      "  return super().drop(\n"
     ]
    }
   ],
   "source": [
    "# Drop all extra price data\n",
    "AAPL.drop(AAPL_extra_idx, inplace = True)\n",
    "AMD.drop(AMD_extra_idx, inplace = True)\n",
    "BAC.drop(BAC_extra_idx, inplace = True)\n",
    "CSCO.drop(CSCO_extra_idx, inplace = True)\n",
    "GE.drop(GE_extra_idx, inplace = True)\n",
    "MSFT.drop(MSFT_extra_idx, inplace = True)\n",
    "MU.drop(MU_extra_idx, inplace = True)\n",
    "T.drop(T_extra_idx, inplace = True)\n",
    "WFC.drop(WFC_extra_idx, inplace = True)"
   ]
  },
  {
   "cell_type": "code",
   "execution_count": 17,
   "metadata": {},
   "outputs": [],
   "source": [
    "AAPL.reset_index(drop = True, inplace = True)\n",
    "AMD.reset_index(drop = True, inplace = True)\n",
    "BAC.reset_index(drop = True, inplace = True)\n",
    "CSCO.reset_index(drop = True, inplace = True)\n",
    "GE.reset_index(drop = True, inplace = True)\n",
    "MSFT.reset_index(drop = True, inplace = True)\n",
    "MU.reset_index(drop = True, inplace = True)\n",
    "T.reset_index(drop = True, inplace = True)\n",
    "WFC.reset_index(drop = True, inplace = True)"
   ]
  },
  {
   "cell_type": "code",
   "execution_count": 23,
   "metadata": {},
   "outputs": [],
   "source": [
    "# Join all dataset together\n",
    "data = AAPL[['Date', 'AAPL']]\n",
    "data = data.join([AMD['AMD'], BAC['BAC'], CSCO['CSCO'], GE['GE'], MSFT['MSFT'], MU['MU'], T['T'], WFC['WFC']])\n",
    "data = data.join(AMD.Datetime)\n",
    "data.drop('Date', axis = 1, inplace = True)"
   ]
  },
  {
   "cell_type": "code",
   "execution_count": 26,
   "metadata": {},
   "outputs": [],
   "source": [
    "data.to_csv('D:/Thesis/IntradayReturns.csv')"
   ]
  },
  {
   "cell_type": "code",
   "execution_count": null,
   "metadata": {},
   "outputs": [],
   "source": []
  }
 ],
 "metadata": {
  "kernelspec": {
   "display_name": "Python 3",
   "language": "python",
   "name": "python3"
  },
  "language_info": {
   "codemirror_mode": {
    "name": "ipython",
    "version": 3
   },
   "file_extension": ".py",
   "mimetype": "text/x-python",
   "name": "python",
   "nbconvert_exporter": "python",
   "pygments_lexer": "ipython3",
   "version": "3.8.5"
  }
 },
 "nbformat": 4,
 "nbformat_minor": 5
}
